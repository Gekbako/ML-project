{
 "cells": [
  {
   "cell_type": "markdown",
   "metadata": {},
   "source": [
    "suport vector regression\n",
    "vector kernel\n",
    "feature selection\n"
   ]
  },
  {
   "cell_type": "code",
   "execution_count": null,
   "metadata": {},
   "outputs": [],
   "source": [
    "import pandas as pd\n",
    "import numpy as np\n",
    "from sklearn.model_selection import train_test_split, GridSearchCV\n",
    "from sklearn.metrics import r2_score, mean_absolute_error, mean_squared_error\n",
    "from sklearn.svm import SVR\n",
    "from sklearn.preprocessing import StandardScaler\n",
    "from sklearn.feature_selection import SelectKBest, f_regression\n",
    "\n",
    "\n",
    "a = []\n",
    "d = []\n",
    "t = []\n",
    "new_colls = [a,d,t]\n",
    "\n",
    "def parentspecies_conv(prnt_spcs):\n",
    "    prnt_dic = {\"apin\":0,\"decane\":1,\"toluene\":2}\n",
    "    add = [0,0,0]\n",
    "    if \"_\" not in prnt_spcs and prnt_spcs != \"\":\n",
    "        add[prnt_dic[prnt_spcs]] = 1\n",
    "        add_to_col(add)\n",
    "    elif prnt_spcs == \"\":\n",
    "        add_to_col(add)\n",
    "    else:\n",
    "        for s in prnt_spcs.split(\"_\"):\n",
    "            add[prnt_dic[s]] = 1\n",
    "        add_to_col(add)\n",
    "    return\n",
    "\n",
    "def add_to_col(add):\n",
    "    a.append(add[0])\n",
    "    d.append(add[1])\n",
    "    t.append(add[2])   \n",
    "    return\n",
    "    \n",
    "\n",
    "\n",
    "# (26637, 27)\n",
    "data = pd.read_csv(\"train.csv\")\n",
    "\n",
    "for spc in data[\"parentspecies\"].values:\n",
    "    if pd.isnull(spc):\n",
    "        spc = \"\"\n",
    "    parentspecies_conv(spc)\n",
    "    \n",
    "\n",
    "data.insert(10,\"apin\",a)\n",
    "data.insert(11,\"decane\",d)\n",
    "data.insert(12,\"toluene\",t)\n",
    "\n",
    "x = data.drop([\"ID\",\"log_pSat_Pa\",\"parentspecies\"],axis=\"columns\")\n",
    "x.fillna(x.median(), inplace=True)\n",
    "# x.to_csv(\"new_train.csv\")"
   ]
  },
  {
   "cell_type": "code",
   "execution_count": 56,
   "metadata": {},
   "outputs": [],
   "source": [
    "\n",
    "y = data[\"log_pSat_Pa\"]\n",
    "\n",
    "scaler = StandardScaler()\n",
    "x_norm = scaler.fit_transform(x)\n",
    "\n",
    "\n"
   ]
  }
 ],
 "metadata": {
  "kernelspec": {
   "display_name": "Python 3",
   "language": "python",
   "name": "python3"
  },
  "language_info": {
   "codemirror_mode": {
    "name": "ipython",
    "version": 3
   },
   "file_extension": ".py",
   "mimetype": "text/x-python",
   "name": "python",
   "nbconvert_exporter": "python",
   "pygments_lexer": "ipython3",
   "version": "3.10.0"
  }
 },
 "nbformat": 4,
 "nbformat_minor": 2
}
